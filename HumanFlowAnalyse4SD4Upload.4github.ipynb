{
 "cells": [
  {
   "cell_type": "code",
   "execution_count": 3,
   "metadata": {},
   "outputs": [],
   "source": [
    "# jun hirabayashi jun@hirax.net\n",
    "\n",
    "import numpy as np; import pandas as pd\n",
    "import datetime as dt\n",
    "\n",
    "# 擬似人流ファイルの読み込み\n",
    "df = pd.read_csv( \"2013-12-16.csv\" )\n",
    "df.iloc[:,2] = pd.to_datetime( df.iloc[:,2] ) # 日付・時刻\n",
    "df.iloc[:,4] = df.iloc[:,4].astype(float)        # 経度：lat\n",
    "df.iloc[:,3] = df.iloc[:,3].astype(float)        # 緯度：long\n",
    "\n",
    "# 特定時間範囲の「人流情報」を抽出する\n",
    "humans = df[  ( dt.datetime( 2013, 12, 16, 7, 0 ) < df.iloc[:, 2] ) & \n",
    "                      ( df.iloc[:, 2] < dt.datetime( 2013, 12, 16, 7, 1 ) ) ]"
   ]
  },
  {
   "cell_type": "code",
   "execution_count": 4,
   "metadata": {},
   "outputs": [
    {
     "name": "stdout",
     "output_type": "stream",
     "text": [
      "1015                                            1015\n",
      "unknown                                      unknown\n",
      "2013-12-16 00:00:00    2013-12-16T08:35:41.000000000\n",
      "35.98297679                                  35.7437\n",
      "139.61399613                                 139.708\n",
      "home                                             NaN\n",
      "departure                                        NaN\n",
      "STAY                                            MOVE\n",
      "8                                                NaN\n",
      "Name: 1, dtype: object\n"
     ]
    }
   ],
   "source": [
    "print( df.iloc[ 1, : ] )"
   ]
  },
  {
   "cell_type": "code",
   "execution_count": 10,
   "metadata": {},
   "outputs": [
    {
     "data": {
      "application/vnd.jupyter.widget-view+json": {
       "model_id": "452ea60f9d4d471283ce28567483bb16",
       "version_major": 2,
       "version_minor": 0
      },
      "text/plain": [
       "Map(center=[35.681236, 139.76712], controls=(ZoomControl(options=['position', 'zoom_in_text', 'zoom_in_title',…"
      ]
     },
     "metadata": {},
     "output_type": "display_data"
    }
   ],
   "source": [
    "from ipyleaflet import *\n",
    "from ipyleaflet import Map, FullScreenControl\n",
    "\n",
    "# Jupyter ノートブックに地図表示する\n",
    "m = Map( center=(35.681236,139.76712), zoom=15, \n",
    "            basemap=basemaps.OpenStreetMap.Mapnik ); m\n",
    "#control = FullScreenControl(); m.add_control( control )"
   ]
  },
  {
   "cell_type": "code",
   "execution_count": 11,
   "metadata": {},
   "outputs": [],
   "source": [
    "# （地図に描画する）円マーカーを用意する\n",
    "points = []\n",
    "for row in humans.itertuples(name=None):\n",
    "    points.append( Circle( location=(row[4], row[5]), # ( lng, lat )\n",
    "        radius=150, fill=True, fill_opacity=0.3, stroke=False ) )\n",
    "for point in points: # 円マーカーを描画する\n",
    "    m.add_layer( point )"
   ]
  },
  {
   "cell_type": "code",
   "execution_count": 7,
   "metadata": {},
   "outputs": [
    {
     "data": {
      "application/vnd.jupyter.widget-view+json": {
       "model_id": "91263d8a72e4437c8b4be42c8f8c85be",
       "version_major": 2,
       "version_minor": 0
      },
      "text/plain": [
       "Box(children=(FloatSlider(value=1.0, description='opacity', max=1.0, step=0.01),))"
      ]
     },
     "metadata": {},
     "output_type": "display_data"
    },
    {
     "data": {
      "text/plain": [
       "<Figure size 7500x7500 with 0 Axes>"
      ]
     },
     "metadata": {},
     "output_type": "display_data"
    },
    {
     "data": {
      "image/png": "[encoded data removed]",
      "text/plain": [
       "<Figure size 500x500 with 1 Axes>"
      ]
     },
     "metadata": {
      "needs_background": "light"
     },
     "output_type": "display_data"
    }
   ],
   "source": [
    "%matplotlib inline\n",
    "\n",
    "import matplotlib.pyplot as plt\n",
    "# 人の存在頻度を描画する、緯度経度範囲を定義\n",
    "right = (2*140.4504015+138.9304186)/3\n",
    "left = (140.4504015+2*138.9304186)/3\n",
    "top = (2*36.3416402+35.0089399)/3\n",
    "bottom = (36.3416402+2*35.0089399)/3\n",
    "\n",
    "# 人の存在頻度を2Ｄヒストグラムとして描く\n",
    "plt.figure( figsize=(15, 15), dpi=500 )\n",
    "fig, ax = plt.subplots( figsize=(5, 5), dpi=100 )\n",
    "ax.hist2d( humans.iloc[:,4], humans.iloc[:,3], \n",
    "           bins=[  np.linspace( left,   right, 200 ),\n",
    "                      np.linspace( bottom, top,   200 )],\n",
    "           cmap=plt.cm.jet )\n",
    "ax.grid( False ); ax.axis('off')\n",
    "# matplotlibレンダリング結果を画像(image)に格納\n",
    "fig.canvas.draw()\n",
    "image = np.array( fig.canvas.renderer._renderer )\n",
    "\n",
    "#  Python 2と3で、ストリームを扱うモジュールが\n",
    "# 違うため、それぞれに応じたストリーム定義にする\n",
    "from base64 import b64encode; import PIL\n",
    "try:\n",
    "    from StringIO import StringIO\n",
    "    py3 = False\n",
    "except ImportError:\n",
    "    from io import StringIO, BytesIO\n",
    "    py3 = True\n",
    "if py3:\n",
    "    f = BytesIO()\n",
    "else:\n",
    "    f = StringIO()\n",
    "# 作成した2次元画像を、地図に重ねて描画する準備\n",
    "im = PIL.Image.fromarray( image ); im.save( f, 'png' )\n",
    "data = b64encode( f.getvalue() )\n",
    "if py3:\n",
    "    data = data.decode( 'ascii' )\n",
    "imgurl = 'data:image/png;base64,' + data\n",
    "bounds = [ (bottom, left), (top, right) ]\n",
    "io = ImageOverlay( url=imgurl, bounds=bounds )\n",
    "m.add_layer( io )                            # 画像をレイヤーに追加\n",
    "io.interact( opacity=( 0.0, 1.0, 0.01) ) # 透明度を可変にする\n"
   ]
  },
  {
   "cell_type": "code",
   "execution_count": 8,
   "metadata": {},
   "outputs": [],
   "source": [
    "# 特定ユーザIDの移動過程を描画してみる\n",
    "aPerson = df[ df.iloc[:, 0]==1015 ] # ユーザ抽出\n",
    "locs = []; ant_paths = [] # 途中位置座標格納用の配列\n",
    "for row in aPerson.itertuples( name=None ):\n",
    "    locs.append( [row[4], row[5]] )  # lng, lat\n",
    "# 移動過程を, AntPath（'polyline'）で描画追加する\n",
    "ant_paths.append( AntPath( locations=locs, \n",
    "                             use = 'polyline') )\n",
    "m += ant_paths[-1]\n",
    "\n",
    "# m.add_layer( ant_paths )"
   ]
  },
  {
   "cell_type": "code",
   "execution_count": 11,
   "metadata": {},
   "outputs": [],
   "source": [
    "# 特定時間範囲の「人流情報」のみ抽出する (クリスマス週末)\n",
    "humans = df[  ( df.iloc[:, 1] == 'female' ) & \n",
    "                      (df.iloc[:, 5] != 'home' ) & (df.iloc[:, 7] == 'STAY' ) &\n",
    "                      ( dt.datetime( 2013, 12, 22, 18, 0 ) < df.iloc[:, 2] ) & \n",
    "                      ( df.iloc[:, 2] < dt.datetime( 2013, 12, 22, 22, 0 ) ) ]"
   ]
  },
  {
   "cell_type": "code",
   "execution_count": null,
   "metadata": {},
   "outputs": [],
   "source": []
  },
  {
   "cell_type": "code",
   "execution_count": null,
   "metadata": {},
   "outputs": [],
   "source": [
    "# Clean up"
   ]
  },
  {
   "cell_type": "code",
   "execution_count": null,
   "metadata": {},
   "outputs": [],
   "source": [
    "\n",
    "# 頻度分布レイヤーを消す場合\n",
    "m.remove_layer( io )\n"
   ]
  },
  {
   "cell_type": "code",
   "execution_count": null,
   "metadata": {},
   "outputs": [],
   "source": [
    "\n",
    "# 経路点レイヤーを消す場合\n",
    "for point in points:\n",
    "    m.remove_layer( point ); point.close()\n",
    "    "
   ]
  },
  {
   "cell_type": "code",
   "execution_count": null,
   "metadata": {},
   "outputs": [],
   "source": [
    "\n",
    "# アニメーション経路レイヤーを消す場合\n",
    "m.remove_layer( ant_paths[-1] )\n"
   ]
  }
 ],
 "metadata": {
  "kernelspec": {
   "display_name": "Python 3",
   "language": "python",
   "name": "python3"
  },
  "language_info": {
   "codemirror_mode": {
    "name": "ipython",
    "version": 3
   },
   "file_extension": ".py",
   "mimetype": "text/x-python",
   "name": "python",
   "nbconvert_exporter": "python",
   "pygments_lexer": "ipython3",
   "version": "3.7.6"
  }
 },
 "nbformat": 4,
 "nbformat_minor": 4
}
